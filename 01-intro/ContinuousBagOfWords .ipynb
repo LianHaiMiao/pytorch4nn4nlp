{
 "cells": [
  {
   "cell_type": "markdown",
   "metadata": {},
   "source": [
    "# Continuous Bag of Words (CBOW)\n",
    "\n",
    "\n",
    "We want to realize the model as shown below:\n",
    "\n",
    "\n",
    "\n",
    "![Bag Of Word](./img/cbow.png)\n",
    "\n",
    "\n",
    "\n",
    "In here, we are doing a text classfication task."
   ]
  },
  {
   "cell_type": "code",
   "execution_count": 1,
   "metadata": {
    "collapsed": true
   },
   "outputs": [],
   "source": [
    "from collections import defaultdict\n",
    "import time\n",
    "import random\n",
    "import torch\n",
    "import numpy as np\n",
    "import torch.nn as nn\n",
    "from torch.nn import Parameter\n",
    "from torch.autograd import Variable\n",
    "import torch.optim as optim\n",
    "import torch.nn.functional as F"
   ]
  },
  {
   "cell_type": "code",
   "execution_count": 2,
   "metadata": {
    "collapsed": true
   },
   "outputs": [],
   "source": [
    "# this is a class to contorl all the hyper parameters\n",
    "class Config(object):\n",
    "    def __init__(self):\n",
    "        self.lr = 1e-3\n",
    "        self.epoch_num = 2 # as a example, we just take 2 epoch\n",
    "        self.embedding_size = 64\n",
    "        self.train_path = \"../data/classes/train.txt\"\n",
    "        self.test_path = \"../data/classes/test.txt\"\n",
    "        \n",
    "config = Config()"
   ]
  },
  {
   "cell_type": "code",
   "execution_count": 3,
   "metadata": {
    "collapsed": true
   },
   "outputs": [],
   "source": [
    "# Functions to read in the corpus\n",
    "w2i = defaultdict(lambda: len(w2i)) # we can add the index automatically in this way\n",
    "t2i = defaultdict(lambda: len(t2i))\n",
    "UNK = w2i[\"<unk>\"]\n",
    "def read_dataset(filename):\n",
    "  with open(filename, \"r\") as f:\n",
    "    for line in f:\n",
    "      tag, words = line.lower().strip().split(\" ||| \")\n",
    "      yield ([w2i[x] for x in words.split(\" \")], t2i[tag])\n",
    "# the dataset just like ([id1, id2, id3, ...], tag1)\n",
    "# [id1, id2, id3, ...] present the sentence, tag1 present the semantic"
   ]
  },
  {
   "cell_type": "code",
   "execution_count": 4,
   "metadata": {
    "collapsed": true
   },
   "outputs": [],
   "source": [
    "# Read in the data\n",
    "train = list(read_dataset(\"../data/classes/train.txt\"))\n",
    "w2i = defaultdict(lambda: UNK, w2i)\n",
    "dev = list(read_dataset(\"../data/classes/test.txt\"))\n",
    "nwords = len(w2i)\n",
    "ntags = len(t2i)"
   ]
  },
  {
   "cell_type": "code",
   "execution_count": 5,
   "metadata": {
    "collapsed": true
   },
   "outputs": [],
   "source": [
    "# build the model\n",
    "class CBOW(nn.Module):\n",
    "    def __init__(self, vocab_size, embedding_size, tag_size):\n",
    "        super(CBOW, self).__init__()\n",
    "        self.embed = nn.Embedding(vocab_size, embedding_size)\n",
    "        self.linear = nn.Linear(embedding_size, tag_size, bias=False)\n",
    "        self.bow_bias = Parameter(torch.Tensor(tag_size))\n",
    "        self.bow_bias.data.uniform_(-1, 1)\n",
    "        \n",
    "    def forward(self, x):\n",
    "        embeds = self.embed(x) # b*w*e\n",
    "        embed_score = torch.sum(embeds, 1) # b*w*e -> b*h\n",
    "        word_score = self.linear(embed_score) # b*h -> b*t\n",
    "        scores = word_score.add_(self.bow_bias)\n",
    "        out = F.log_softmax(scores)\n",
    "        return out"
   ]
  },
  {
   "cell_type": "code",
   "execution_count": 6,
   "metadata": {
    "collapsed": false
   },
   "outputs": [],
   "source": [
    "# create model\n",
    "model = CBOW(nwords, config.embedding_size, ntags)\n",
    "\n",
    "# optim and loss\n",
    "optimizer = optim.Adam(model.parameters(), lr=config.lr)\n",
    "loss_fn = torch.nn.NLLLoss() # loss(bow(input), target) and last layer of model is LogSoftmax"
   ]
  },
  {
   "cell_type": "code",
   "execution_count": 7,
   "metadata": {
    "collapsed": false
   },
   "outputs": [
    {
     "name": "stdout",
     "output_type": "stream",
     "text": [
      "iter 0: train loss/sent=1.7765, time=360.31s\n",
      "iter 0: test acc=0.2964\n",
      "iter 1: train loss/sent=1.4725, time=543.00s\n",
      "iter 1: test acc=0.3321\n"
     ]
    }
   ],
   "source": [
    "# 开始训练\n",
    "for epoch in range(config.epoch_num):\n",
    "    random.shuffle(train)\n",
    "    train_loss = 0.0\n",
    "    start = time.time()\n",
    "    for words, tag in train:\n",
    "        words = Variable(torch.LongTensor(words)).view(1, -1)\n",
    "        tag = Variable(torch.LongTensor([tag]))\n",
    "        model.zero_grad()\n",
    "        my_loss = loss_fn(model(words), tag)\n",
    "        train_loss += my_loss.data[0]\n",
    "        my_loss.backward()\n",
    "        optimizer.step()\n",
    "    print(\"iter %r: train loss/sent=%.4f, time=%.2fs\" % (epoch, train_loss/len(train), time.time()-start))\n",
    "    \n",
    "    # Perform testing\n",
    "    test_correct = 0.0\n",
    "    for words, tag in dev:\n",
    "        words = Variable(torch.LongTensor(words)).view(1, -1)\n",
    "        scores = model(words).data.numpy()\n",
    "        predict = np.argmax(scores)\n",
    "        if predict == tag:\n",
    "            test_correct += 1\n",
    "    print(\"iter %r: test acc=%.4f\" % (epoch, test_correct/len(dev)))"
   ]
  }
 ],
 "metadata": {
  "anaconda-cloud": {},
  "kernelspec": {
   "display_name": "Python [conda root]",
   "language": "python",
   "name": "conda-root-py"
  },
  "language_info": {
   "codemirror_mode": {
    "name": "ipython",
    "version": 3
   },
   "file_extension": ".py",
   "mimetype": "text/x-python",
   "name": "python",
   "nbconvert_exporter": "python",
   "pygments_lexer": "ipython3",
   "version": "3.5.2"
  }
 },
 "nbformat": 4,
 "nbformat_minor": 1
}
